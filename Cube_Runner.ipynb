{
 "cells": [
  {
   "cell_type": "markdown",
   "metadata": {},
   "source": [
    "# Cube Runner\n",
    "- to play, Run all Cells and the game window will pop up\n",
    "- this game uses pyglet, which may have to be installed\n",
    "- version for github\n"
   ]
  },
  {
   "cell_type": "code",
   "execution_count": 309,
   "metadata": {},
   "outputs": [],
   "source": [
    "from pyglet.gl import *\n",
    "from pyglet.window import *\n",
    "from pyglet.media import *\n",
    "from pyglet.text import Label\n",
    "from pyglet.app import EventLoop\n",
    "import numpy as np\n",
    "import random"
   ]
  },
  {
   "cell_type": "markdown",
   "metadata": {},
   "source": [
    "# colors"
   ]
  },
  {
   "cell_type": "code",
   "execution_count": 310,
   "metadata": {},
   "outputs": [],
   "source": [
    "white = (1,1,1)\n",
    "black = (0,0,0)\n",
    "red = (1,0,0)\n",
    "green = (0,0.75,0)\n",
    "blue = (0,0.5,1)\n",
    "orange = (1,0.5,0)\n",
    "carolina = (0.6,0.8,1)\n",
    "neon_yellow = (0.9,1,0.1)\n",
    "dark_green = (0.4,0.6,0.2)\n",
    "brown = (0.5,0.2,0)\n",
    "tan = (0.9,0.9,0.6)"
   ]
  },
  {
   "cell_type": "markdown",
   "metadata": {},
   "source": [
    "# 2D and 3D set\n",
    "- these functions set up two-dimensional and three-dimensional views\n",
    "- both are used in the game"
   ]
  },
  {
   "cell_type": "code",
   "execution_count": 311,
   "metadata": {},
   "outputs": [],
   "source": [
    "def set2D(window):\n",
    "    '''sets up matrix for two-dimensional view and usage'''\n",
    "    window.clear()\n",
    "    glDisable(GL_DEPTH_TEST)\n",
    "    \n",
    "    glMatrixMode(GL_PROJECTION)\n",
    "    glLoadIdentity()\n",
    "    \n",
    "    glOrtho(0.0, window.width, 0.0, window.height, 0.0, 1.0)    # 2D perspective\n",
    "\n",
    "    glMatrixMode(GL_MODELVIEW)\n",
    "    glLoadIdentity()\n",
    "    \n",
    "def set3D(window):\n",
    "    '''sets up matrix for three-dimensional view and usage'''\n",
    "    window.clear()\n",
    "    glEnable(GL_DEPTH_TEST)         # enable depth testing\n",
    "    \n",
    "    glMatrixMode(GL_PROJECTION)         # reset matrices\n",
    "    glLoadIdentity()                    # load the identity matrix\n",
    "\n",
    "    gluPerspective(45, window.width/window.height, 0.1, 500)    # 3D perspective\n",
    "    \n",
    "    glMatrixMode(GL_MODELVIEW)\n",
    "    glLoadIdentity()\n",
    "    \n",
    "    glTranslatef(0,0,-15)\n",
    "    glRotatef(10,1,0,0)                  # starting view"
   ]
  },
  {
   "cell_type": "markdown",
   "metadata": {},
   "source": [
    "# game object classes\n",
    "- these classes represent the different objects which appear in the game\n",
    "- the level tracker\n",
    "- the cubes which are responsible for both:\n",
    "    - the user\n",
    "    - the obstacles"
   ]
  },
  {
   "cell_type": "markdown",
   "metadata": {},
   "source": [
    "# level "
   ]
  },
  {
   "cell_type": "code",
   "execution_count": 312,
   "metadata": {},
   "outputs": [],
   "source": [
    "class Level():\n",
    "    '''object to hold level characteristics'''\n",
    "\n",
    "    def __init__(self):\n",
    "        self.level=0\n",
    "        self.speed=0.2              # how fast the obstacles come\n",
    "        self.speed_increase=0.025\n",
    "        self.length=1200           # until obstacles stop getting created\n",
    "        self.timer=0\n",
    "        self.over=False       # when creation has stopped\n",
    "        self.end_timer=0\n",
    "        self.end_length=300    # time between end of obstacles and end of level\n",
    "        self.surface_color = ('c3f', red*4)\n",
    "        self.edge_color = ('c3f',black*2)"
   ]
  },
  {
   "cell_type": "markdown",
   "metadata": {},
   "source": [
    "# cube"
   ]
  },
  {
   "cell_type": "code",
   "execution_count": 313,
   "metadata": {},
   "outputs": [],
   "source": [
    "class Cube():\n",
    "    '''cubes for obstacles and user'''\n",
    "    \n",
    "    def __init__(self,x,y,z,s, color, edge_color):\n",
    "        self.surface_batch = pyglet.graphics.Batch()    # batched rendering\n",
    "        self.edge_batch = pyglet.graphics.Batch()\n",
    "        \n",
    "        self.surface_verts = []    # vertices needed for movement / collision detection\n",
    "        self.edge_verts = []\n",
    "        \n",
    "        X,Y,Z = x+s,y+s,z+s       # coordinate creation\n",
    "        surface_coords = np.array([\n",
    "            [X, y, z,  x, y, z,  x, Y, z,  X, Y, z], #back\n",
    "            [x, y, Z,  X, y, Z,  X, Y, Z,  x, Y, Z], #front\n",
    "            \n",
    "            [x, y, z,  x, y, Z,  x, Y, Z,  x, Y, z], #left\n",
    "            [X, y, Z,  X, y, z,  X, Y, z,  X, Y, Z], #right\n",
    "            \n",
    "            [x, y, z,  X, y, z,  X, y, Z,  x, y, Z], #bottom\n",
    "            [x, Y, Z,  X, Y, Z,  X, Y, z,  x, Y, z]  #top\n",
    "        ])\n",
    "        \n",
    "        for coord in surface_coords:\n",
    "            self.surface_verts.append(self.surface_batch.add(4, GL_QUADS, None, ('v3f', coord), color))\n",
    "            \n",
    "        edge_coords = np.array([\n",
    "            [X, y, z,  x, y, z],  # around back face\n",
    "            [x, y, z,  x, Y, z],\n",
    "            [x, Y, z,  X, Y, z],\n",
    "            [X, Y, z,  X, y, z],\n",
    "            \n",
    "            [x, y, Z,  X, y, Z],   # around front face\n",
    "            [X, y, Z,  X, Y, Z],\n",
    "            [X, Y, Z,  x, Y, Z],\n",
    "            [x, Y, Z,  x, y, Z],\n",
    "            \n",
    "            [X, y, z,  X, y, Z],   # connecting back & front faces\n",
    "            [x, y, z,  x, y, Z],\n",
    "            [x, Y, z,  x, Y, Z],\n",
    "            [X, Y, z,  X, Y, Z]\n",
    "        ])\n",
    "        \n",
    "        for coord in edge_coords:\n",
    "            self.edge_verts.append(self.edge_batch.add(2, GL_LINES, None, ('v3f', coord), edge_color))\n",
    "        \n",
    "    def draw(self): \n",
    "        self.surface_batch.draw()\n",
    "        self.edge_batch.draw()"
   ]
  },
  {
   "cell_type": "markdown",
   "metadata": {},
   "source": [
    "# obstacles"
   ]
  },
  {
   "cell_type": "code",
   "execution_count": 314,
   "metadata": {},
   "outputs": [],
   "source": [
    "class Obstacles():\n",
    "    '''holds list of all the current obstacles'''\n",
    "    \n",
    "    def __init__(self,h,color,edge_color):\n",
    "        self.color=color\n",
    "        self.edge_color=edge_color\n",
    "        self.size=0.7\n",
    "        self.separation=1.5\n",
    "        self.offset=0.75\n",
    "        self.distance=2.5\n",
    "        self.x=9\n",
    "        self.dx=-self.x\n",
    "        self.cubes=[]\n",
    "        self.is_right=False\n",
    "        \n",
    "        self.z = -10\n",
    "        num = 20\n",
    "        funnel_sep = (self.x-self.distance)/num\n",
    "        for i in range(num):\n",
    "            self.x -= funnel_sep\n",
    "            self.dx += funnel_sep\n",
    "            self.z -= self.separation\n",
    "            self.cubes.append( Cube(self.x, h, self.z, self.size, color, edge_color) ) \n",
    "            self.cubes.append( Cube(self.dx, h, self.z, self.size, color, edge_color) )\n",
    "            \n",
    "    def draw(self): \n",
    "        for cube in reversed(self.cubes): cube.draw()     # reversed so cubes appear in the correct order\n",
    "            \n",
    "    def update(self,user):\n",
    "        '''updates list to remove passed obstacles and replace with new ones'''\n",
    "        if self.cubes[0].surface_verts[0].vertices[-1] > user.surface_verts[0].vertices[-1]+10:\n",
    "            self.cubes[:-2] = self.cubes[2:]     # removes the first two cubes from list\n",
    "            \n",
    "            self.is_right = random.choice([True,False]+[self.is_right]*4)    # creates the changing pathway\n",
    "            if self.is_right: \n",
    "                self.x += self.offset\n",
    "                self.dx += self.offset\n",
    "            else: \n",
    "                self.x -= self.offset\n",
    "                self.dx -= self.offset\n",
    "                \n",
    "            self.z -= self.separation\n",
    "            self.cubes[-2] = Cube(self.x, -3, self.z, self.size, self.color, self.edge_color)\n",
    "            self.cubes[-1] = Cube(self.dx, -3, self.z, self.size, self.color, self.edge_color)"
   ]
  },
  {
   "cell_type": "markdown",
   "metadata": {},
   "source": [
    "# user"
   ]
  },
  {
   "cell_type": "code",
   "execution_count": 315,
   "metadata": {},
   "outputs": [],
   "source": [
    "class User(Cube):\n",
    "    '''cube controlled by user during play'''\n",
    "    \n",
    "    def move_horizontal(self,dx,obst):\n",
    "        '''controls horizontal movement based on arrow key presses'''\n",
    "        speed_factor = obst.separation / obst.offset\n",
    "        dx /= speed_factor             # factor of speed\n",
    "        for element in self.surface_verts:\n",
    "            for i in range(0,10,3):\n",
    "                element.vertices[i]+=dx\n",
    "        for element in self.edge_verts:\n",
    "            element.vertices[0]+=dx\n",
    "            element.vertices[3]+=dx\n",
    "        glTranslatef(-dx,0,0)\n",
    "            \n",
    "    def advance(self,dz):\n",
    "        '''controls forward movement'''\n",
    "        for element in self.surface_verts:\n",
    "            for i in range(2,12,3):\n",
    "                element.vertices[i]+=dz\n",
    "        for element in self.edge_verts:\n",
    "            element.vertices[2]+=dz\n",
    "            element.vertices[5]+=dz\n",
    "        glTranslatef(0,0,-dz)"
   ]
  },
  {
   "cell_type": "markdown",
   "metadata": {},
   "source": [
    "# game flow classes\n",
    "- these are classes which represent each section of the game\n",
    "- they include messages, updates, and anything necessary to display for that part of the game\n",
    "- the different game sections are:\n",
    "    - the introduction screen\n",
    "    - the instructions screen\n",
    "    - the level up screen\n",
    "    - the game play screen\n",
    "    - the game over screen\n",
    "    \n",
    "- the game play screen is the main section, it is the only 3D area where the game is actually played\n",
    "- the rest of the sections are just menus / word displays"
   ]
  },
  {
   "cell_type": "markdown",
   "metadata": {},
   "source": [
    "# parent Menu class\n",
    "- super methods for intro, instructions, game over"
   ]
  },
  {
   "cell_type": "code",
   "execution_count": 316,
   "metadata": {},
   "outputs": [],
   "source": [
    "class Menu():\n",
    "    def check_cursor(self,x,y,window, x1,x2,y1,y2, *args):\n",
    "        '''detect user mouse over buttons to change cursor'''\n",
    "        if (x1 < x < x2 and y1 < y < y2) or (len(args)>0 and args[0] < x < args[1] and args[2] < y < args[3]):\n",
    "            window.set_mouse_cursor(window.get_system_mouse_cursor(window.CURSOR_HAND))\n",
    "        else:\n",
    "            window.set_mouse_cursor(window.get_system_mouse_cursor(window.CURSOR_DEFAULT))\n",
    "    \n",
    "    def check_click(self,x,y,button,window,event_loop, x1,x2,y1,y2, intro=None, **kwargs):\n",
    "        '''detect click on buttons'''\n",
    "        if x1 < x < x2 and y1 < y < y2:\n",
    "            if button == pyglet.window.mouse.LEFT:\n",
    "                window.set_mouse_cursor(window.get_system_mouse_cursor(window.CURSOR_DEFAULT))\n",
    "                event_loop.exit()\n",
    "                if 'start' in kwargs:            # starting game\n",
    "                    level_up(Level(), window)\n",
    "                elif 'instr' in kwargs:          # loading instructions screen\n",
    "                    instructions(window,intro)\n",
    "                else:                            # back to intro screen\n",
    "                    intro_loop(window,intro)"
   ]
  },
  {
   "cell_type": "markdown",
   "metadata": {},
   "source": [
    "# Intro"
   ]
  },
  {
   "cell_type": "code",
   "execution_count": 317,
   "metadata": {},
   "outputs": [],
   "source": [
    "class Intro(Menu):\n",
    "    def __init__(self,window):\n",
    "        self.contents = [\n",
    "            Label('Cube Runner', \n",
    "                   font_name='Dead Kansas', font_size=70,\n",
    "                   x=window.width/2, y=window.height/1.75,\n",
    "                   anchor_x='center', anchor_y='center'),\n",
    "            Label('Play', \n",
    "                   font_name='Dead Kansas', font_size=45,\n",
    "                   x=window.width/2, y=window.height/3,\n",
    "                   anchor_x='center', anchor_y='center'),\n",
    "            Label('Instructions', \n",
    "                   font_name='Dead Kansas', font_size=30,\n",
    "                   x=window.width/2, y=window.height/5,\n",
    "                   anchor_x='center', anchor_y='center')\n",
    "        ]\n",
    "        \n",
    "    def check_cursor(self,x,y,window):\n",
    "        super().check_cursor(x,y,window, 475,625,180,250, 400,700,100,160)\n",
    "        \n",
    "    def check_click(self,x,y,button,window,event_loop,*args):\n",
    "        super().check_click(x,y,button,window,event_loop, 475,625,180,250, start=True)\n",
    "        super().check_click(x,y,button,window,event_loop, 400,700,100,160, self, instr=True)           "
   ]
  },
  {
   "cell_type": "markdown",
   "metadata": {},
   "source": [
    "# Instructions"
   ]
  },
  {
   "cell_type": "code",
   "execution_count": 318,
   "metadata": {},
   "outputs": [],
   "source": [
    "class Instructions(Menu):\n",
    "    def __init__(self,window):\n",
    "        self.contents = [\n",
    "            Label('''How To Play: \n",
    "                     Use the left and right arrow keys to move\n",
    "                     Don\\'t hit the cubes!''', \n",
    "                     font_name='Dead Kansas', font_size=30,\n",
    "                     multiline=True, width=400,\n",
    "                     x=10, y=window.height-10,\n",
    "                     anchor_x='left', anchor_y='top'),\n",
    "            Label('OKAY', \n",
    "                   font_name='Dead Kansas', font_size=30,\n",
    "                   x=10, y=20,\n",
    "                   anchor_x='left', anchor_y='baseline')\n",
    "        ]\n",
    "        \n",
    "    def check_cursor(self,x,y,window):\n",
    "        super().check_cursor(x,y,window, 10,125,20,75)\n",
    "            \n",
    "    def check_click(self,x,y,button,window,event_loop,intro):\n",
    "        super().check_click(x,y,button,window,event_loop, 10,125,20,75,intro)"
   ]
  },
  {
   "cell_type": "markdown",
   "metadata": {},
   "source": [
    "# LevelUp"
   ]
  },
  {
   "cell_type": "code",
   "execution_count": 319,
   "metadata": {},
   "outputs": [],
   "source": [
    "class LevelUp():\n",
    "    def __init__(self,level,window):\n",
    "        self.update(level)\n",
    "        self.timer = 0\n",
    "        self.contents = [\n",
    "            Label('Level '+str(level.level), \n",
    "                   font_name='Dead Kansas', font_size=50,\n",
    "                   x=window.width/2, y=window.height/2,\n",
    "                   anchor_x='center', anchor_y='center')\n",
    "        ]\n",
    "        \n",
    "        \n",
    "    def color(self,surface,edge,level):\n",
    "        '''put color in correct format for GL'''\n",
    "        level.surface_color = ('c3f',surface)\n",
    "        level.edge_color = ('c3f',edge)\n",
    "    \n",
    "    def update(self,level):\n",
    "        '''updates including color scheme based on level'''\n",
    "        level.level += 1\n",
    "        level.speed += level.speed_increase\n",
    "        \n",
    "        if level.level % 10 == 1:\n",
    "            self.color(red*4, black*2, level)\n",
    "        elif level.level % 10 == 2:\n",
    "            self.color((1,1,1, 0.8,0.7,0.2, 0.8,0.7,0.2, 1,1,1), (0,0.5,1, 0,0.5,1), level)  #bluegold\n",
    "        elif level.level % 10 == 3:\n",
    "            self.color(neon_yellow*4, neon_yellow*2, level)\n",
    "        elif level.level % 10 == 4:\n",
    "            self.color((0.8,0,0, 1,0.7,0, 1,0.7,0, 0.8,0,0), (0.8,0,0, 1,0.7,0), level)   #redorange\n",
    "        elif level.level % 10 == 5:\n",
    "            self.color((0,0.5,1, 1,1,1, 1,0,0, 1,1,1), (0,0.5,1, 1,0,0), level)  #redwhiteblue\n",
    "        elif level.level % 10 == 6:\n",
    "            self.color((1,1,1, 1,1,1, 0,0,0, 0,0,0), (1,1,1, 0,0,0), level)    #blackwhite\n",
    "        elif level.level % 10 == 7:\n",
    "            self.color((1,0.5,0, 0,0.3,1, 0,0,1, 1,0,1), white*2, level)\n",
    "        elif level.level % 10 == 8:\n",
    "            self.color(carolina*4, black*2, level)\n",
    "        elif level.level % 10 == 9:\n",
    "            self.color(orange*4, white*2, level)\n",
    "        elif level.level % 10 == 0:\n",
    "            self.color(tan*4, tan*2, level)\n",
    "            \n",
    "    def time(self,level,window):\n",
    "        '''determine time until next level starts'''\n",
    "        self.timer += 1\n",
    "        if self.timer < 100:\n",
    "            window.dispatch_events()\n",
    "            window.dispatch_event('on_draw')\n",
    "            window.flip()\n",
    "        else:\n",
    "            game_play(level,window)"
   ]
  },
  {
   "cell_type": "markdown",
   "metadata": {},
   "source": [
    "# GamePlay"
   ]
  },
  {
   "cell_type": "code",
   "execution_count": 320,
   "metadata": {},
   "outputs": [],
   "source": [
    "class GamePlay():\n",
    "    def __init__(self,level,window):\n",
    "        self.user = User(0,-3,-1.5, 0.45, ('c3f',red*4), ('c3f',red*2))\n",
    "        self.obstacles = Obstacles(-3, level.surface_color, level.edge_color)\n",
    "        self.keys = {}\n",
    "        self.contents = [self.user,self.obstacles]\n",
    "        \n",
    "    def set_keys(self,symbol):\n",
    "        '''flag key when pressed'''\n",
    "        self.keys[symbol] = True\n",
    "        \n",
    "    def check_keys(self,symbol):\n",
    "        '''unflag key when released'''\n",
    "        if self.keys[symbol]: \n",
    "            self.keys[symbol] = not self.keys[symbol]\n",
    "    \n",
    "    def update(self,level,window):\n",
    "        '''update obstacles and timer'''\n",
    "        self.user.advance(-level.speed)\n",
    "        \n",
    "        if level.timer < level.length:      \n",
    "            level.timer += 1\n",
    "            self.obstacles.update(self.user)  \n",
    "        else:\n",
    "            level.over = True\n",
    "            \n",
    "        if level.over:\n",
    "            if level.end_timer < level.end_length: \n",
    "                level.end_timer += 1\n",
    "            else: \n",
    "                level.end_timer = 0\n",
    "                level.over = False\n",
    "                level.timer = 0\n",
    "                level_up(level,window)\n",
    "                \n",
    "        self.check_key_hold(level)\n",
    "        self.check_collision(level,window)\n",
    "        self.update_window(window)\n",
    "                \n",
    "    def check_key_hold(self,level):\n",
    "        '''check if user is holding arrow keys to move'''\n",
    "        for symbol in self.keys:\n",
    "            if self.keys[symbol]:\n",
    "                if symbol == key.RIGHT:\n",
    "                    self.user.move_horizontal(level.speed,self.obstacles)\n",
    "                if symbol == key.LEFT:\n",
    "                    self.user.move_horizontal(-level.speed,self.obstacles)\n",
    "                    \n",
    "    def check_collision(self,level,window):\n",
    "        '''check for overlapping vertices indicating a collision'''\n",
    "        for cube in self.obstacles.cubes:\n",
    "            x1= cube.surface_verts[0].vertices[3]\n",
    "            x2= cube.surface_verts[0].vertices[0]\n",
    "            z1= cube.surface_verts[0].vertices[-1]\n",
    "            z2= cube.surface_verts[1].vertices[-1]\n",
    "            ux1= self.user.surface_verts[0].vertices[3]\n",
    "            ux2= self.user.surface_verts[0].vertices[0]\n",
    "            uz1= self.user.surface_verts[0].vertices[-1]\n",
    "            uz2= self.user.surface_verts[1].vertices[-1]\n",
    "            if x1 < ux1 < x2 or x1 < ux2 < x2:\n",
    "                if z1 < uz1 < z2 or z1 < uz2 < z2:  \n",
    "                    game_over(level,window) \n",
    "                    \n",
    "    def update_window(self,window):\n",
    "        '''refresh screen manually'''\n",
    "        window.dispatch_events()\n",
    "        window.dispatch_event('on_draw')\n",
    "        window.flip()"
   ]
  },
  {
   "cell_type": "markdown",
   "metadata": {},
   "source": [
    "# GameOver"
   ]
  },
  {
   "cell_type": "code",
   "execution_count": 321,
   "metadata": {},
   "outputs": [],
   "source": [
    "class GameOver(Menu):\n",
    "    def __init__(self,level,window):\n",
    "        self.contents = [\n",
    "            Label('GAME OVER', \n",
    "                   font_name='Dead Kansas', font_size=70,\n",
    "                   x=window.width/2, y=window.height/1.5,\n",
    "                   anchor_x='center', anchor_y='center'),\n",
    "            Label('Level '+str(level.level), \n",
    "                   font_name='Dead Kansas', font_size=35,\n",
    "                   x=window.width/2, y=window.height/2.25,\n",
    "                   anchor_x='center', anchor_y='center'),\n",
    "            Label('Home', \n",
    "                   font_name='Dead Kansas', font_size=30,\n",
    "                   x=window.width/2, y=window.height/5.5,\n",
    "                   anchor_x='center', anchor_y='center')\n",
    "        ]\n",
    "        \n",
    "    def check_cursor(self,x,y,window):\n",
    "        super().check_cursor(x,y,window, 500,600,90,140)\n",
    "            \n",
    "    def check_click(self,x,y,button,window,event_loop,*args):\n",
    "        super().check_click(x,y,button,window,event_loop, 500,600,90,140)"
   ]
  },
  {
   "cell_type": "markdown",
   "metadata": {},
   "source": [
    "# game/menu loops\n",
    "- these functions control the loops for each section of the game\n",
    "- included in each function are the event handlers\n",
    "    - these methods handle all events relevant to that section\n",
    "    - each event handling method is decorated as such to alert pyglet \n",
    "- each function represents a loop\n",
    "    - both custom loops and pyglet built-in event loops are utilized depending on scenario"
   ]
  },
  {
   "cell_type": "markdown",
   "metadata": {},
   "source": [
    "# event handler class\n",
    "- provides event handlers for the majority of the game"
   ]
  },
  {
   "cell_type": "code",
   "execution_count": 322,
   "metadata": {},
   "outputs": [],
   "source": [
    "class EventHandler():\n",
    "    def __init__(self,obj,window,event_loop=None,intro=None):\n",
    "        self.obj = obj\n",
    "        self.intro = intro\n",
    "        self.window = window\n",
    "        self.event_loop = event_loop\n",
    "        \n",
    "    def on_mouse_motion(self,x,y,dx,dy):\n",
    "        self.obj.check_cursor(x,y,self.window)\n",
    "    def on_mouse_press(self,x,y,button,modifiers): \n",
    "        self.obj.check_click(x,y,button,self.window,self.event_loop,self.intro)\n",
    "    def on_draw(self): \n",
    "        draw_contents(self.window,self.obj)\n",
    "    def on_close(self): \n",
    "        close_window(self.window,self.event_loop)"
   ]
  },
  {
   "cell_type": "code",
   "execution_count": 323,
   "metadata": {},
   "outputs": [],
   "source": [
    "# additional methods\n",
    "\n",
    "def draw_contents(window,obj):\n",
    "    '''update text on screen'''\n",
    "    window.clear()\n",
    "    for thing in obj.contents: thing.draw()\n",
    "        \n",
    "def close_window(window,event_loop=None):\n",
    "    '''exit the event loop and close the window'''\n",
    "    if event_loop is not None: event_loop.exit()\n",
    "    window.close()"
   ]
  },
  {
   "cell_type": "markdown",
   "metadata": {},
   "source": [
    "# intro\n"
   ]
  },
  {
   "cell_type": "code",
   "execution_count": 324,
   "metadata": {
    "scrolled": true
   },
   "outputs": [],
   "source": [
    "def intro_loop(window,intro=None):\n",
    "    if intro is None: \n",
    "        intro = Intro(window)\n",
    "        \n",
    "    event_loop=EventLoop()\n",
    "    event_handler = EventHandler(intro,window,event_loop)\n",
    "    window.set_handlers(event_handler)\n",
    "    \n",
    "    window.dispatch_event('on_draw')\n",
    "    window.flip()\n",
    "    \n",
    "    event_loop.run()"
   ]
  },
  {
   "cell_type": "markdown",
   "metadata": {},
   "source": [
    "# instructions"
   ]
  },
  {
   "cell_type": "code",
   "execution_count": 325,
   "metadata": {},
   "outputs": [],
   "source": [
    "def instructions(window,intro):\n",
    "    instr = Instructions(window)\n",
    "    \n",
    "    event_loop=EventLoop()\n",
    "    event_handler = EventHandler(instr,window,event_loop,intro)\n",
    "    window.set_handlers(event_handler)\n",
    "    \n",
    "    window.dispatch_event('on_draw')\n",
    "    window.flip()\n",
    "    \n",
    "    event_loop.run()"
   ]
  },
  {
   "cell_type": "markdown",
   "metadata": {},
   "source": [
    "# level up\n",
    "- should show before each level"
   ]
  },
  {
   "cell_type": "code",
   "execution_count": 326,
   "metadata": {},
   "outputs": [],
   "source": [
    "def level_up(level,window):\n",
    "    set2D(window); lvl=LevelUp(level,window)\n",
    "    \n",
    "    event_handler = EventHandler(lvl,window)\n",
    "    window.set_handlers(event_handler.on_draw, event_handler.on_close)\n",
    "    \n",
    "    while True: lvl.time(level,window)"
   ]
  },
  {
   "cell_type": "markdown",
   "metadata": {},
   "source": [
    "# game play\n",
    "- includes additional event handlers not needed anywhere else"
   ]
  },
  {
   "cell_type": "code",
   "execution_count": 327,
   "metadata": {},
   "outputs": [],
   "source": [
    "def game_play(level,window):\n",
    "    set3D(window); gm=GamePlay(level,window)\n",
    "    \n",
    "    event_handler = EventHandler(gm,window)\n",
    "    window.set_handlers(event_handler.on_draw, event_handler.on_close)\n",
    "    \n",
    "    @window.event\n",
    "    def on_key_press(symbol,modifiers): gm.set_keys(symbol)\n",
    "    @window.event\n",
    "    def on_key_release(symbol,modifiers): gm.check_keys(symbol)\n",
    "    \n",
    "    while True: gm.update(level,window)  "
   ]
  },
  {
   "cell_type": "markdown",
   "metadata": {},
   "source": [
    "# game over"
   ]
  },
  {
   "cell_type": "code",
   "execution_count": 328,
   "metadata": {},
   "outputs": [],
   "source": [
    "def game_over(level,window):\n",
    "    set2D(window); gmovr=GameOver(level,window)\n",
    "    \n",
    "    event_loop=pyglet.app.EventLoop()\n",
    "    event_handler = EventHandler(gmovr,window,event_loop)\n",
    "    window.set_handlers(event_handler)\n",
    "    \n",
    "    event_loop.run()"
   ]
  },
  {
   "cell_type": "markdown",
   "metadata": {},
   "source": [
    "# main\n",
    "- calling main initializes the window and then calls for the intro screen to appear\n",
    "- from there, the rest of the game is played"
   ]
  },
  {
   "cell_type": "code",
   "execution_count": 329,
   "metadata": {
    "scrolled": true
   },
   "outputs": [],
   "source": [
    "def main():\n",
    "    window = Window(width=1100, height=650, caption='Cube Runner')    # pyglet window display\n",
    "    window.set_location(90,50)                                       # fixed location on screen\n",
    "    set2D(window)\n",
    "\n",
    "    intro_loop(window)"
   ]
  },
  {
   "cell_type": "code",
   "execution_count": 330,
   "metadata": {},
   "outputs": [
    {
     "ename": "AttributeError",
     "evalue": "'NoneType' object has no attribute 'flip'",
     "output_type": "error",
     "traceback": [
      "\u001b[1;31m---------------------------------------------------------------------------\u001b[0m",
      "\u001b[1;31mAttributeError\u001b[0m                            Traceback (most recent call last)",
      "\u001b[1;32m_ctypes/callbacks.c\u001b[0m in \u001b[0;36m'calling callback function'\u001b[1;34m()\u001b[0m\n",
      "\u001b[1;32m~\\Anaconda3\\lib\\site-packages\\pyglet\\window\\win32\\__init__.py\u001b[0m in \u001b[0;36mf\u001b[1;34m(hwnd, msg, wParam, lParam)\u001b[0m\n\u001b[0;32m    663\u001b[0m             \u001b[1;32mif\u001b[0m \u001b[0mevent_handler\u001b[0m\u001b[1;33m:\u001b[0m\u001b[1;33m\u001b[0m\u001b[1;33m\u001b[0m\u001b[0m\n\u001b[0;32m    664\u001b[0m                 \u001b[1;32mif\u001b[0m \u001b[0mself\u001b[0m\u001b[1;33m.\u001b[0m\u001b[0m_allow_dispatch_event\u001b[0m \u001b[1;32mor\u001b[0m \u001b[1;32mnot\u001b[0m \u001b[0mself\u001b[0m\u001b[1;33m.\u001b[0m\u001b[0m_enable_event_queue\u001b[0m\u001b[1;33m:\u001b[0m\u001b[1;33m\u001b[0m\u001b[1;33m\u001b[0m\u001b[0m\n\u001b[1;32m--> 665\u001b[1;33m                     \u001b[0mresult\u001b[0m \u001b[1;33m=\u001b[0m \u001b[0mevent_handler\u001b[0m\u001b[1;33m(\u001b[0m\u001b[0mmsg\u001b[0m\u001b[1;33m,\u001b[0m \u001b[0mwParam\u001b[0m\u001b[1;33m,\u001b[0m \u001b[0mlParam\u001b[0m\u001b[1;33m)\u001b[0m\u001b[1;33m\u001b[0m\u001b[1;33m\u001b[0m\u001b[0m\n\u001b[0m\u001b[0;32m    666\u001b[0m                 \u001b[1;32melse\u001b[0m\u001b[1;33m:\u001b[0m\u001b[1;33m\u001b[0m\u001b[1;33m\u001b[0m\u001b[0m\n\u001b[0;32m    667\u001b[0m                     \u001b[0mresult\u001b[0m \u001b[1;33m=\u001b[0m \u001b[1;36m0\u001b[0m\u001b[1;33m\u001b[0m\u001b[1;33m\u001b[0m\u001b[0m\n",
      "\u001b[1;32m~\\Anaconda3\\lib\\site-packages\\pyglet\\window\\win32\\__init__.py\u001b[0m in \u001b[0;36m_event_lbuttondown\u001b[1;34m(self, msg, wParam, lParam)\u001b[0m\n\u001b[0;32m    915\u001b[0m     \u001b[1;32mdef\u001b[0m \u001b[0m_event_lbuttondown\u001b[0m\u001b[1;33m(\u001b[0m\u001b[0mself\u001b[0m\u001b[1;33m,\u001b[0m \u001b[0mmsg\u001b[0m\u001b[1;33m,\u001b[0m \u001b[0mwParam\u001b[0m\u001b[1;33m,\u001b[0m \u001b[0mlParam\u001b[0m\u001b[1;33m)\u001b[0m\u001b[1;33m:\u001b[0m\u001b[1;33m\u001b[0m\u001b[1;33m\u001b[0m\u001b[0m\n\u001b[0;32m    916\u001b[0m         return self._event_mousebutton(\n\u001b[1;32m--> 917\u001b[1;33m             'on_mouse_press', mouse.LEFT, lParam)\n\u001b[0m\u001b[0;32m    918\u001b[0m \u001b[1;33m\u001b[0m\u001b[0m\n\u001b[0;32m    919\u001b[0m     \u001b[1;33m@\u001b[0m\u001b[0mViewEventHandler\u001b[0m\u001b[1;33m\u001b[0m\u001b[1;33m\u001b[0m\u001b[0m\n",
      "\u001b[1;32m~\\Anaconda3\\lib\\site-packages\\pyglet\\window\\win32\\__init__.py\u001b[0m in \u001b[0;36m_event_mousebutton\u001b[1;34m(self, ev, button, lParam)\u001b[0m\n\u001b[0;32m    908\u001b[0m         \u001b[0mx\u001b[0m\u001b[1;33m,\u001b[0m \u001b[0my\u001b[0m \u001b[1;33m=\u001b[0m \u001b[0mself\u001b[0m\u001b[1;33m.\u001b[0m\u001b[0m_get_location\u001b[0m\u001b[1;33m(\u001b[0m\u001b[0mlParam\u001b[0m\u001b[1;33m)\u001b[0m\u001b[1;33m\u001b[0m\u001b[1;33m\u001b[0m\u001b[0m\n\u001b[0;32m    909\u001b[0m         \u001b[0my\u001b[0m \u001b[1;33m=\u001b[0m \u001b[0mself\u001b[0m\u001b[1;33m.\u001b[0m\u001b[0m_height\u001b[0m \u001b[1;33m-\u001b[0m \u001b[0my\u001b[0m\u001b[1;33m\u001b[0m\u001b[1;33m\u001b[0m\u001b[0m\n\u001b[1;32m--> 910\u001b[1;33m         \u001b[0mself\u001b[0m\u001b[1;33m.\u001b[0m\u001b[0mdispatch_event\u001b[0m\u001b[1;33m(\u001b[0m\u001b[0mev\u001b[0m\u001b[1;33m,\u001b[0m \u001b[0mx\u001b[0m\u001b[1;33m,\u001b[0m \u001b[0my\u001b[0m\u001b[1;33m,\u001b[0m \u001b[0mbutton\u001b[0m\u001b[1;33m,\u001b[0m \u001b[0mself\u001b[0m\u001b[1;33m.\u001b[0m\u001b[0m_get_modifiers\u001b[0m\u001b[1;33m(\u001b[0m\u001b[1;33m)\u001b[0m\u001b[1;33m)\u001b[0m\u001b[1;33m\u001b[0m\u001b[1;33m\u001b[0m\u001b[0m\n\u001b[0m\u001b[0;32m    911\u001b[0m         \u001b[1;32mreturn\u001b[0m \u001b[1;36m0\u001b[0m\u001b[1;33m\u001b[0m\u001b[1;33m\u001b[0m\u001b[0m\n\u001b[0;32m    912\u001b[0m \u001b[1;33m\u001b[0m\u001b[0m\n",
      "\u001b[1;32m~\\Anaconda3\\lib\\site-packages\\pyglet\\window\\__init__.py\u001b[0m in \u001b[0;36mdispatch_event\u001b[1;34m(self, *args)\u001b[0m\n\u001b[0;32m   1328\u001b[0m     \u001b[1;32mdef\u001b[0m \u001b[0mdispatch_event\u001b[0m\u001b[1;33m(\u001b[0m\u001b[0mself\u001b[0m\u001b[1;33m,\u001b[0m \u001b[1;33m*\u001b[0m\u001b[0margs\u001b[0m\u001b[1;33m)\u001b[0m\u001b[1;33m:\u001b[0m\u001b[1;33m\u001b[0m\u001b[1;33m\u001b[0m\u001b[0m\n\u001b[0;32m   1329\u001b[0m         \u001b[1;32mif\u001b[0m \u001b[1;32mnot\u001b[0m \u001b[0mself\u001b[0m\u001b[1;33m.\u001b[0m\u001b[0m_enable_event_queue\u001b[0m \u001b[1;32mor\u001b[0m \u001b[0mself\u001b[0m\u001b[1;33m.\u001b[0m\u001b[0m_allow_dispatch_event\u001b[0m\u001b[1;33m:\u001b[0m\u001b[1;33m\u001b[0m\u001b[1;33m\u001b[0m\u001b[0m\n\u001b[1;32m-> 1330\u001b[1;33m             \u001b[1;32mif\u001b[0m \u001b[0mEventDispatcher\u001b[0m\u001b[1;33m.\u001b[0m\u001b[0mdispatch_event\u001b[0m\u001b[1;33m(\u001b[0m\u001b[0mself\u001b[0m\u001b[1;33m,\u001b[0m \u001b[1;33m*\u001b[0m\u001b[0margs\u001b[0m\u001b[1;33m)\u001b[0m \u001b[1;33m!=\u001b[0m \u001b[1;32mFalse\u001b[0m\u001b[1;33m:\u001b[0m\u001b[1;33m\u001b[0m\u001b[1;33m\u001b[0m\u001b[0m\n\u001b[0m\u001b[0;32m   1331\u001b[0m                 \u001b[0mself\u001b[0m\u001b[1;33m.\u001b[0m\u001b[0m_legacy_invalid\u001b[0m \u001b[1;33m=\u001b[0m \u001b[1;32mTrue\u001b[0m\u001b[1;33m\u001b[0m\u001b[1;33m\u001b[0m\u001b[0m\n\u001b[0;32m   1332\u001b[0m         \u001b[1;32melse\u001b[0m\u001b[1;33m:\u001b[0m\u001b[1;33m\u001b[0m\u001b[1;33m\u001b[0m\u001b[0m\n",
      "\u001b[1;32m~\\Anaconda3\\lib\\site-packages\\pyglet\\event.py\u001b[0m in \u001b[0;36mdispatch_event\u001b[1;34m(self, event_type, *args)\u001b[0m\n\u001b[0;32m    414\u001b[0m             \u001b[1;32mtry\u001b[0m\u001b[1;33m:\u001b[0m\u001b[1;33m\u001b[0m\u001b[1;33m\u001b[0m\u001b[0m\n\u001b[0;32m    415\u001b[0m                 \u001b[0minvoked\u001b[0m \u001b[1;33m=\u001b[0m \u001b[1;32mTrue\u001b[0m\u001b[1;33m\u001b[0m\u001b[1;33m\u001b[0m\u001b[0m\n\u001b[1;32m--> 416\u001b[1;33m                 \u001b[1;32mif\u001b[0m \u001b[0mhandler\u001b[0m\u001b[1;33m(\u001b[0m\u001b[1;33m*\u001b[0m\u001b[0margs\u001b[0m\u001b[1;33m)\u001b[0m\u001b[1;33m:\u001b[0m\u001b[1;33m\u001b[0m\u001b[1;33m\u001b[0m\u001b[0m\n\u001b[0m\u001b[0;32m    417\u001b[0m                     \u001b[1;32mreturn\u001b[0m \u001b[0mEVENT_HANDLED\u001b[0m\u001b[1;33m\u001b[0m\u001b[1;33m\u001b[0m\u001b[0m\n\u001b[0;32m    418\u001b[0m             \u001b[1;32mexcept\u001b[0m \u001b[0mTypeError\u001b[0m \u001b[1;32mas\u001b[0m \u001b[0mexception\u001b[0m\u001b[1;33m:\u001b[0m\u001b[1;33m\u001b[0m\u001b[1;33m\u001b[0m\u001b[0m\n",
      "\u001b[1;32m<ipython-input-322-f0132c4130c8>\u001b[0m in \u001b[0;36mon_mouse_press\u001b[1;34m(self, x, y, button, modifiers)\u001b[0m\n\u001b[0;32m      9\u001b[0m         \u001b[0mself\u001b[0m\u001b[1;33m.\u001b[0m\u001b[0mobj\u001b[0m\u001b[1;33m.\u001b[0m\u001b[0mcheck_cursor\u001b[0m\u001b[1;33m(\u001b[0m\u001b[0mx\u001b[0m\u001b[1;33m,\u001b[0m\u001b[0my\u001b[0m\u001b[1;33m,\u001b[0m\u001b[0mself\u001b[0m\u001b[1;33m.\u001b[0m\u001b[0mwindow\u001b[0m\u001b[1;33m)\u001b[0m\u001b[1;33m\u001b[0m\u001b[1;33m\u001b[0m\u001b[0m\n\u001b[0;32m     10\u001b[0m     \u001b[1;32mdef\u001b[0m \u001b[0mon_mouse_press\u001b[0m\u001b[1;33m(\u001b[0m\u001b[0mself\u001b[0m\u001b[1;33m,\u001b[0m\u001b[0mx\u001b[0m\u001b[1;33m,\u001b[0m\u001b[0my\u001b[0m\u001b[1;33m,\u001b[0m\u001b[0mbutton\u001b[0m\u001b[1;33m,\u001b[0m\u001b[0mmodifiers\u001b[0m\u001b[1;33m)\u001b[0m\u001b[1;33m:\u001b[0m\u001b[1;33m\u001b[0m\u001b[1;33m\u001b[0m\u001b[0m\n\u001b[1;32m---> 11\u001b[1;33m         \u001b[0mself\u001b[0m\u001b[1;33m.\u001b[0m\u001b[0mobj\u001b[0m\u001b[1;33m.\u001b[0m\u001b[0mcheck_click\u001b[0m\u001b[1;33m(\u001b[0m\u001b[0mx\u001b[0m\u001b[1;33m,\u001b[0m\u001b[0my\u001b[0m\u001b[1;33m,\u001b[0m\u001b[0mbutton\u001b[0m\u001b[1;33m,\u001b[0m\u001b[0mself\u001b[0m\u001b[1;33m.\u001b[0m\u001b[0mwindow\u001b[0m\u001b[1;33m,\u001b[0m\u001b[0mself\u001b[0m\u001b[1;33m.\u001b[0m\u001b[0mevent_loop\u001b[0m\u001b[1;33m,\u001b[0m\u001b[0mself\u001b[0m\u001b[1;33m.\u001b[0m\u001b[0mintro\u001b[0m\u001b[1;33m)\u001b[0m\u001b[1;33m\u001b[0m\u001b[1;33m\u001b[0m\u001b[0m\n\u001b[0m\u001b[0;32m     12\u001b[0m     \u001b[1;32mdef\u001b[0m \u001b[0mon_draw\u001b[0m\u001b[1;33m(\u001b[0m\u001b[0mself\u001b[0m\u001b[1;33m)\u001b[0m\u001b[1;33m:\u001b[0m\u001b[1;33m\u001b[0m\u001b[1;33m\u001b[0m\u001b[0m\n\u001b[0;32m     13\u001b[0m         \u001b[0mdraw_contents\u001b[0m\u001b[1;33m(\u001b[0m\u001b[0mself\u001b[0m\u001b[1;33m.\u001b[0m\u001b[0mwindow\u001b[0m\u001b[1;33m,\u001b[0m\u001b[0mself\u001b[0m\u001b[1;33m.\u001b[0m\u001b[0mobj\u001b[0m\u001b[1;33m)\u001b[0m\u001b[1;33m\u001b[0m\u001b[1;33m\u001b[0m\u001b[0m\n",
      "\u001b[1;32m<ipython-input-317-91e95b9eb3e1>\u001b[0m in \u001b[0;36mcheck_click\u001b[1;34m(self, x, y, button, window, event_loop, *args)\u001b[0m\n\u001b[0;32m     20\u001b[0m \u001b[1;33m\u001b[0m\u001b[0m\n\u001b[0;32m     21\u001b[0m     \u001b[1;32mdef\u001b[0m \u001b[0mcheck_click\u001b[0m\u001b[1;33m(\u001b[0m\u001b[0mself\u001b[0m\u001b[1;33m,\u001b[0m\u001b[0mx\u001b[0m\u001b[1;33m,\u001b[0m\u001b[0my\u001b[0m\u001b[1;33m,\u001b[0m\u001b[0mbutton\u001b[0m\u001b[1;33m,\u001b[0m\u001b[0mwindow\u001b[0m\u001b[1;33m,\u001b[0m\u001b[0mevent_loop\u001b[0m\u001b[1;33m,\u001b[0m\u001b[1;33m*\u001b[0m\u001b[0margs\u001b[0m\u001b[1;33m)\u001b[0m\u001b[1;33m:\u001b[0m\u001b[1;33m\u001b[0m\u001b[1;33m\u001b[0m\u001b[0m\n\u001b[1;32m---> 22\u001b[1;33m         \u001b[0msuper\u001b[0m\u001b[1;33m(\u001b[0m\u001b[1;33m)\u001b[0m\u001b[1;33m.\u001b[0m\u001b[0mcheck_click\u001b[0m\u001b[1;33m(\u001b[0m\u001b[0mx\u001b[0m\u001b[1;33m,\u001b[0m\u001b[0my\u001b[0m\u001b[1;33m,\u001b[0m\u001b[0mbutton\u001b[0m\u001b[1;33m,\u001b[0m\u001b[0mwindow\u001b[0m\u001b[1;33m,\u001b[0m\u001b[0mevent_loop\u001b[0m\u001b[1;33m,\u001b[0m \u001b[1;36m475\u001b[0m\u001b[1;33m,\u001b[0m\u001b[1;36m625\u001b[0m\u001b[1;33m,\u001b[0m\u001b[1;36m180\u001b[0m\u001b[1;33m,\u001b[0m\u001b[1;36m250\u001b[0m\u001b[1;33m,\u001b[0m \u001b[0mstart\u001b[0m\u001b[1;33m=\u001b[0m\u001b[1;32mTrue\u001b[0m\u001b[1;33m)\u001b[0m\u001b[1;33m\u001b[0m\u001b[1;33m\u001b[0m\u001b[0m\n\u001b[0m\u001b[0;32m     23\u001b[0m         \u001b[0msuper\u001b[0m\u001b[1;33m(\u001b[0m\u001b[1;33m)\u001b[0m\u001b[1;33m.\u001b[0m\u001b[0mcheck_click\u001b[0m\u001b[1;33m(\u001b[0m\u001b[0mx\u001b[0m\u001b[1;33m,\u001b[0m\u001b[0my\u001b[0m\u001b[1;33m,\u001b[0m\u001b[0mbutton\u001b[0m\u001b[1;33m,\u001b[0m\u001b[0mwindow\u001b[0m\u001b[1;33m,\u001b[0m\u001b[0mevent_loop\u001b[0m\u001b[1;33m,\u001b[0m \u001b[1;36m400\u001b[0m\u001b[1;33m,\u001b[0m\u001b[1;36m700\u001b[0m\u001b[1;33m,\u001b[0m\u001b[1;36m100\u001b[0m\u001b[1;33m,\u001b[0m\u001b[1;36m160\u001b[0m\u001b[1;33m,\u001b[0m \u001b[0mself\u001b[0m\u001b[1;33m,\u001b[0m \u001b[0minstr\u001b[0m\u001b[1;33m=\u001b[0m\u001b[1;32mTrue\u001b[0m\u001b[1;33m)\u001b[0m\u001b[1;33m\u001b[0m\u001b[1;33m\u001b[0m\u001b[0m\n",
      "\u001b[1;32m<ipython-input-316-f9b418c8cf0f>\u001b[0m in \u001b[0;36mcheck_click\u001b[1;34m(self, x, y, button, window, event_loop, x1, x2, y1, y2, intro, **kwargs)\u001b[0m\n\u001b[0;32m     14\u001b[0m                 \u001b[0mevent_loop\u001b[0m\u001b[1;33m.\u001b[0m\u001b[0mexit\u001b[0m\u001b[1;33m(\u001b[0m\u001b[1;33m)\u001b[0m\u001b[1;33m\u001b[0m\u001b[1;33m\u001b[0m\u001b[0m\n\u001b[0;32m     15\u001b[0m                 \u001b[1;32mif\u001b[0m \u001b[1;34m'start'\u001b[0m \u001b[1;32min\u001b[0m \u001b[0mkwargs\u001b[0m\u001b[1;33m:\u001b[0m            \u001b[1;31m# starting game\u001b[0m\u001b[1;33m\u001b[0m\u001b[1;33m\u001b[0m\u001b[0m\n\u001b[1;32m---> 16\u001b[1;33m                     \u001b[0mlevel_up\u001b[0m\u001b[1;33m(\u001b[0m\u001b[0mLevel\u001b[0m\u001b[1;33m(\u001b[0m\u001b[1;33m)\u001b[0m\u001b[1;33m,\u001b[0m \u001b[0mwindow\u001b[0m\u001b[1;33m)\u001b[0m\u001b[1;33m\u001b[0m\u001b[1;33m\u001b[0m\u001b[0m\n\u001b[0m\u001b[0;32m     17\u001b[0m                 \u001b[1;32melif\u001b[0m \u001b[1;34m'instr'\u001b[0m \u001b[1;32min\u001b[0m \u001b[0mkwargs\u001b[0m\u001b[1;33m:\u001b[0m          \u001b[1;31m# loading instructions screen\u001b[0m\u001b[1;33m\u001b[0m\u001b[1;33m\u001b[0m\u001b[0m\n\u001b[0;32m     18\u001b[0m                     \u001b[0minstructions\u001b[0m\u001b[1;33m(\u001b[0m\u001b[0mwindow\u001b[0m\u001b[1;33m,\u001b[0m\u001b[0mintro\u001b[0m\u001b[1;33m)\u001b[0m\u001b[1;33m\u001b[0m\u001b[1;33m\u001b[0m\u001b[0m\n",
      "\u001b[1;32m<ipython-input-326-6a27f7899381>\u001b[0m in \u001b[0;36mlevel_up\u001b[1;34m(level, window)\u001b[0m\n\u001b[0;32m      5\u001b[0m     \u001b[0mwindow\u001b[0m\u001b[1;33m.\u001b[0m\u001b[0mset_handlers\u001b[0m\u001b[1;33m(\u001b[0m\u001b[0mevent_handler\u001b[0m\u001b[1;33m.\u001b[0m\u001b[0mon_draw\u001b[0m\u001b[1;33m,\u001b[0m \u001b[0mevent_handler\u001b[0m\u001b[1;33m.\u001b[0m\u001b[0mon_close\u001b[0m\u001b[1;33m)\u001b[0m\u001b[1;33m\u001b[0m\u001b[1;33m\u001b[0m\u001b[0m\n\u001b[0;32m      6\u001b[0m \u001b[1;33m\u001b[0m\u001b[0m\n\u001b[1;32m----> 7\u001b[1;33m     \u001b[1;32mwhile\u001b[0m \u001b[1;32mTrue\u001b[0m\u001b[1;33m:\u001b[0m \u001b[0mlvl\u001b[0m\u001b[1;33m.\u001b[0m\u001b[0mtime\u001b[0m\u001b[1;33m(\u001b[0m\u001b[0mlevel\u001b[0m\u001b[1;33m,\u001b[0m\u001b[0mwindow\u001b[0m\u001b[1;33m)\u001b[0m\u001b[1;33m\u001b[0m\u001b[1;33m\u001b[0m\u001b[0m\n\u001b[0m",
      "\u001b[1;32m<ipython-input-319-15d7cc8dc371>\u001b[0m in \u001b[0;36mtime\u001b[1;34m(self, level, window)\u001b[0m\n\u001b[0;32m     50\u001b[0m             \u001b[0mwindow\u001b[0m\u001b[1;33m.\u001b[0m\u001b[0mflip\u001b[0m\u001b[1;33m(\u001b[0m\u001b[1;33m)\u001b[0m\u001b[1;33m\u001b[0m\u001b[1;33m\u001b[0m\u001b[0m\n\u001b[0;32m     51\u001b[0m         \u001b[1;32melse\u001b[0m\u001b[1;33m:\u001b[0m\u001b[1;33m\u001b[0m\u001b[1;33m\u001b[0m\u001b[0m\n\u001b[1;32m---> 52\u001b[1;33m             \u001b[0mgame_play\u001b[0m\u001b[1;33m(\u001b[0m\u001b[0mlevel\u001b[0m\u001b[1;33m,\u001b[0m\u001b[0mwindow\u001b[0m\u001b[1;33m)\u001b[0m\u001b[1;33m\u001b[0m\u001b[1;33m\u001b[0m\u001b[0m\n\u001b[0m",
      "\u001b[1;32m<ipython-input-327-46ce2e1ec8d4>\u001b[0m in \u001b[0;36mgame_play\u001b[1;34m(level, window)\u001b[0m\n\u001b[0;32m     10\u001b[0m     \u001b[1;32mdef\u001b[0m \u001b[0mon_key_release\u001b[0m\u001b[1;33m(\u001b[0m\u001b[0msymbol\u001b[0m\u001b[1;33m,\u001b[0m\u001b[0mmodifiers\u001b[0m\u001b[1;33m)\u001b[0m\u001b[1;33m:\u001b[0m \u001b[0mgm\u001b[0m\u001b[1;33m.\u001b[0m\u001b[0mcheck_keys\u001b[0m\u001b[1;33m(\u001b[0m\u001b[0msymbol\u001b[0m\u001b[1;33m)\u001b[0m\u001b[1;33m\u001b[0m\u001b[1;33m\u001b[0m\u001b[0m\n\u001b[0;32m     11\u001b[0m \u001b[1;33m\u001b[0m\u001b[0m\n\u001b[1;32m---> 12\u001b[1;33m     \u001b[1;32mwhile\u001b[0m \u001b[1;32mTrue\u001b[0m\u001b[1;33m:\u001b[0m \u001b[0mgm\u001b[0m\u001b[1;33m.\u001b[0m\u001b[0mupdate\u001b[0m\u001b[1;33m(\u001b[0m\u001b[0mlevel\u001b[0m\u001b[1;33m,\u001b[0m\u001b[0mwindow\u001b[0m\u001b[1;33m)\u001b[0m\u001b[1;33m\u001b[0m\u001b[1;33m\u001b[0m\u001b[0m\n\u001b[0m",
      "\u001b[1;32m<ipython-input-320-eaef3f66809d>\u001b[0m in \u001b[0;36mupdate\u001b[1;34m(self, level, window)\u001b[0m\n\u001b[0;32m     36\u001b[0m         \u001b[0mself\u001b[0m\u001b[1;33m.\u001b[0m\u001b[0mcheck_key_hold\u001b[0m\u001b[1;33m(\u001b[0m\u001b[0mlevel\u001b[0m\u001b[1;33m)\u001b[0m\u001b[1;33m\u001b[0m\u001b[1;33m\u001b[0m\u001b[0m\n\u001b[0;32m     37\u001b[0m         \u001b[0mself\u001b[0m\u001b[1;33m.\u001b[0m\u001b[0mcheck_collision\u001b[0m\u001b[1;33m(\u001b[0m\u001b[0mlevel\u001b[0m\u001b[1;33m,\u001b[0m\u001b[0mwindow\u001b[0m\u001b[1;33m)\u001b[0m\u001b[1;33m\u001b[0m\u001b[1;33m\u001b[0m\u001b[0m\n\u001b[1;32m---> 38\u001b[1;33m         \u001b[0mself\u001b[0m\u001b[1;33m.\u001b[0m\u001b[0mupdate_window\u001b[0m\u001b[1;33m(\u001b[0m\u001b[0mwindow\u001b[0m\u001b[1;33m)\u001b[0m\u001b[1;33m\u001b[0m\u001b[1;33m\u001b[0m\u001b[0m\n\u001b[0m\u001b[0;32m     39\u001b[0m \u001b[1;33m\u001b[0m\u001b[0m\n\u001b[0;32m     40\u001b[0m     \u001b[1;32mdef\u001b[0m \u001b[0mcheck_key_hold\u001b[0m\u001b[1;33m(\u001b[0m\u001b[0mself\u001b[0m\u001b[1;33m,\u001b[0m\u001b[0mlevel\u001b[0m\u001b[1;33m)\u001b[0m\u001b[1;33m:\u001b[0m\u001b[1;33m\u001b[0m\u001b[1;33m\u001b[0m\u001b[0m\n",
      "\u001b[1;32m<ipython-input-320-eaef3f66809d>\u001b[0m in \u001b[0;36mupdate_window\u001b[1;34m(self, window)\u001b[0m\n\u001b[0;32m     66\u001b[0m         \u001b[0mwindow\u001b[0m\u001b[1;33m.\u001b[0m\u001b[0mdispatch_events\u001b[0m\u001b[1;33m(\u001b[0m\u001b[1;33m)\u001b[0m\u001b[1;33m\u001b[0m\u001b[1;33m\u001b[0m\u001b[0m\n\u001b[0;32m     67\u001b[0m         \u001b[0mwindow\u001b[0m\u001b[1;33m.\u001b[0m\u001b[0mdispatch_event\u001b[0m\u001b[1;33m(\u001b[0m\u001b[1;34m'on_draw'\u001b[0m\u001b[1;33m)\u001b[0m\u001b[1;33m\u001b[0m\u001b[1;33m\u001b[0m\u001b[0m\n\u001b[1;32m---> 68\u001b[1;33m         \u001b[0mwindow\u001b[0m\u001b[1;33m.\u001b[0m\u001b[0mflip\u001b[0m\u001b[1;33m(\u001b[0m\u001b[1;33m)\u001b[0m\u001b[1;33m\u001b[0m\u001b[1;33m\u001b[0m\u001b[0m\n\u001b[0m",
      "\u001b[1;32m~\\Anaconda3\\lib\\site-packages\\pyglet\\window\\win32\\__init__.py\u001b[0m in \u001b[0;36mflip\u001b[1;34m(self)\u001b[0m\n\u001b[0;32m    345\u001b[0m                     \u001b[0m_dwmapi\u001b[0m\u001b[1;33m.\u001b[0m\u001b[0mDwmFlush\u001b[0m\u001b[1;33m(\u001b[0m\u001b[1;33m)\u001b[0m\u001b[1;33m\u001b[0m\u001b[1;33m\u001b[0m\u001b[0m\n\u001b[0;32m    346\u001b[0m \u001b[1;33m\u001b[0m\u001b[0m\n\u001b[1;32m--> 347\u001b[1;33m         \u001b[0mself\u001b[0m\u001b[1;33m.\u001b[0m\u001b[0mcontext\u001b[0m\u001b[1;33m.\u001b[0m\u001b[0mflip\u001b[0m\u001b[1;33m(\u001b[0m\u001b[1;33m)\u001b[0m\u001b[1;33m\u001b[0m\u001b[1;33m\u001b[0m\u001b[0m\n\u001b[0m\u001b[0;32m    348\u001b[0m \u001b[1;33m\u001b[0m\u001b[0m\n\u001b[0;32m    349\u001b[0m     \u001b[1;32mdef\u001b[0m \u001b[0mset_location\u001b[0m\u001b[1;33m(\u001b[0m\u001b[0mself\u001b[0m\u001b[1;33m,\u001b[0m \u001b[0mx\u001b[0m\u001b[1;33m,\u001b[0m \u001b[0my\u001b[0m\u001b[1;33m)\u001b[0m\u001b[1;33m:\u001b[0m\u001b[1;33m\u001b[0m\u001b[1;33m\u001b[0m\u001b[0m\n",
      "\u001b[1;31mAttributeError\u001b[0m: 'NoneType' object has no attribute 'flip'"
     ]
    }
   ],
   "source": [
    "main()"
   ]
  }
 ],
 "metadata": {
  "kernelspec": {
   "display_name": "Python 3",
   "language": "python",
   "name": "python3"
  },
  "language_info": {
   "codemirror_mode": {
    "name": "ipython",
    "version": 3
   },
   "file_extension": ".py",
   "mimetype": "text/x-python",
   "name": "python",
   "nbconvert_exporter": "python",
   "pygments_lexer": "ipython3",
   "version": "3.7.3"
  }
 },
 "nbformat": 4,
 "nbformat_minor": 2
}
